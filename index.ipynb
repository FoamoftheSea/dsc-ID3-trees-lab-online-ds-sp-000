{
 "cells": [
  {
   "cell_type": "markdown",
   "metadata": {},
   "source": [
    "# ID3 Classification Trees: Perfect Split with Information Gain - Lab\n",
    "\n",
    "## Introduction\n",
    "\n",
    "In this lab, we will simulate the example from the previous lesson in Python. You will write functions to calculate entropy and IG which will be used for calculating these uncertainty measures and deciding upon creating a split using information gain while growing an ID3 classification tree. You will also write a general function that can be used for other (larger) problems as well. So let's get on with it.\n",
    "\n",
    "## Objectives\n",
    "\n",
    "In this lab you will: \n",
    "\n",
    "- Write functions for calculating entropy and information gain measures  \n",
    "- Use entropy and information gain to identify the attribute that results in the best split at each 'no'de\n",
    "\n",
    "\n",
    "## Problem\n",
    "\n",
    "You will use the same problem about deciding whether to go and play tennis on a given day, given the weather conditions. Here is the data from the previous lesson:\n",
    "\n",
    "|  outlook | temp | humidity | windy | play |\n",
    "|:--------:|:----:|:--------:|:-----:|:----:|\n",
    "| overcast | cool |   high   |   Y   |  yes |\n",
    "| overcast | mild |  'no'rmal  |   N   |  yes |\n",
    "|   sunny  | cool |  'no'rmal  |   N   |  yes |\n",
    "| overcast |  hot |   high   |   Y   |  'no'  |\n",
    "|   sunny  |  hot |  'no'rmal  |   Y   |  yes |\n",
    "|   rain   | mild |   high   |   N   |  'no'  |\n",
    "|   rain   | cool |  'no'rmal  |   N   |  'no'  |\n",
    "|   sunny  | mild |   high   |   N   |  yes |\n",
    "|   sunny  | cool |  'no'rmal  |   Y   |  yes |\n",
    "|   sunny  | mild |  'no'rmal  |   Y   |  yes |\n",
    "| overcast | cool |   high   |   N   |  yes |\n",
    "|   rain   | cool |   high   |   Y   |  'no'  |\n",
    "|   sunny  |  hot |  'no'rmal  |   Y   |  'no'  |\n",
    "|   sunny  | mild |   high   |   N   |  yes |\n",
    "\n",
    "\n",
    "## Write a function `entropy(pi)` to calculate total entropy in a given discrete probability distribution `pi`\n",
    "\n",
    "- The function should take in a probability distribution `pi` as a list of class distributions. This should be a list of two integers, representing how many items are in each class. For example: `[4, 4]` indicates that there are four items in each class, `[10, 0]` indicates that there are 10 items in one class and 0 in the other. \n",
    "- Calculate and return entropy according to the formula: $$Entropy(p) = -\\sum (P_i . log_2(P_i))$$"
   ]
  },
  {
   "cell_type": "code",
   "execution_count": 20,
   "metadata": {},
   "outputs": [],
   "source": [
    "import pandas as pd"
   ]
  },
  {
   "cell_type": "code",
   "execution_count": 24,
   "metadata": {},
   "outputs": [
    {
     "data": {
      "text/html": [
       "<div>\n",
       "<style scoped>\n",
       "    .dataframe tbody tr th:only-of-type {\n",
       "        vertical-align: middle;\n",
       "    }\n",
       "\n",
       "    .dataframe tbody tr th {\n",
       "        vertical-align: top;\n",
       "    }\n",
       "\n",
       "    .dataframe thead th {\n",
       "        text-align: right;\n",
       "    }\n",
       "</style>\n",
       "<table border=\"1\" class=\"dataframe\">\n",
       "  <thead>\n",
       "    <tr style=\"text-align: right;\">\n",
       "      <th></th>\n",
       "      <th>outlook</th>\n",
       "      <th>temp</th>\n",
       "      <th>humidity</th>\n",
       "      <th>windy</th>\n",
       "      <th>play</th>\n",
       "    </tr>\n",
       "  </thead>\n",
       "  <tbody>\n",
       "    <tr>\n",
       "      <td>0</td>\n",
       "      <td>overcast</td>\n",
       "      <td>cool</td>\n",
       "      <td>high</td>\n",
       "      <td>Y</td>\n",
       "      <td>True</td>\n",
       "    </tr>\n",
       "    <tr>\n",
       "      <td>1</td>\n",
       "      <td>overcast</td>\n",
       "      <td>mild</td>\n",
       "      <td>normal</td>\n",
       "      <td>N</td>\n",
       "      <td>True</td>\n",
       "    </tr>\n",
       "    <tr>\n",
       "      <td>2</td>\n",
       "      <td>sunny</td>\n",
       "      <td>cool</td>\n",
       "      <td>normal</td>\n",
       "      <td>N</td>\n",
       "      <td>True</td>\n",
       "    </tr>\n",
       "    <tr>\n",
       "      <td>3</td>\n",
       "      <td>overcast</td>\n",
       "      <td>hot</td>\n",
       "      <td>high</td>\n",
       "      <td>Y</td>\n",
       "      <td>False</td>\n",
       "    </tr>\n",
       "    <tr>\n",
       "      <td>4</td>\n",
       "      <td>sunny</td>\n",
       "      <td>hot</td>\n",
       "      <td>normal</td>\n",
       "      <td>Y</td>\n",
       "      <td>True</td>\n",
       "    </tr>\n",
       "    <tr>\n",
       "      <td>5</td>\n",
       "      <td>rain</td>\n",
       "      <td>mild</td>\n",
       "      <td>high</td>\n",
       "      <td>N</td>\n",
       "      <td>False</td>\n",
       "    </tr>\n",
       "    <tr>\n",
       "      <td>6</td>\n",
       "      <td>rain</td>\n",
       "      <td>cool</td>\n",
       "      <td>normal</td>\n",
       "      <td>N</td>\n",
       "      <td>False</td>\n",
       "    </tr>\n",
       "    <tr>\n",
       "      <td>7</td>\n",
       "      <td>sunny</td>\n",
       "      <td>mild</td>\n",
       "      <td>high</td>\n",
       "      <td>N</td>\n",
       "      <td>True</td>\n",
       "    </tr>\n",
       "    <tr>\n",
       "      <td>8</td>\n",
       "      <td>sunny</td>\n",
       "      <td>cool</td>\n",
       "      <td>normal</td>\n",
       "      <td>Y</td>\n",
       "      <td>True</td>\n",
       "    </tr>\n",
       "    <tr>\n",
       "      <td>9</td>\n",
       "      <td>sunny</td>\n",
       "      <td>mild</td>\n",
       "      <td>normal</td>\n",
       "      <td>Y</td>\n",
       "      <td>True</td>\n",
       "    </tr>\n",
       "    <tr>\n",
       "      <td>10</td>\n",
       "      <td>overcast</td>\n",
       "      <td>cool</td>\n",
       "      <td>high</td>\n",
       "      <td>N</td>\n",
       "      <td>True</td>\n",
       "    </tr>\n",
       "    <tr>\n",
       "      <td>11</td>\n",
       "      <td>rain</td>\n",
       "      <td>cool</td>\n",
       "      <td>high</td>\n",
       "      <td>Y</td>\n",
       "      <td>False</td>\n",
       "    </tr>\n",
       "    <tr>\n",
       "      <td>12</td>\n",
       "      <td>sunny</td>\n",
       "      <td>hot</td>\n",
       "      <td>normal</td>\n",
       "      <td>Y</td>\n",
       "      <td>False</td>\n",
       "    </tr>\n",
       "    <tr>\n",
       "      <td>13</td>\n",
       "      <td>sunny</td>\n",
       "      <td>mild</td>\n",
       "      <td>high</td>\n",
       "      <td>N</td>\n",
       "      <td>True</td>\n",
       "    </tr>\n",
       "  </tbody>\n",
       "</table>\n",
       "</div>"
      ],
      "text/plain": [
       "     outlook  temp humidity windy   play\n",
       "0   overcast  cool     high     Y   True\n",
       "1   overcast  mild   normal     N   True\n",
       "2      sunny  cool   normal     N   True\n",
       "3   overcast   hot     high     Y  False\n",
       "4      sunny   hot   normal     Y   True\n",
       "5       rain  mild     high     N  False\n",
       "6       rain  cool   normal     N  False\n",
       "7      sunny  mild     high     N   True\n",
       "8      sunny  cool   normal     Y   True\n",
       "9      sunny  mild   normal     Y   True\n",
       "10  overcast  cool     high     N   True\n",
       "11      rain  cool     high     Y  False\n",
       "12     sunny   hot   normal     Y  False\n",
       "13     sunny  mild     high     N   True"
      ]
     },
     "execution_count": 24,
     "metadata": {},
     "output_type": "execute_result"
    }
   ],
   "source": [
    "df = pd.DataFrame([['overcast','cool','high','Y',True],\n",
    "['overcast','mild','normal','N',True],\n",
    "['sunny','cool','normal','N',True],\n",
    "['overcast','hot','high','Y',False],\n",
    "['sunny','hot','normal','Y',True],\n",
    "['rain','mild','high','N',False],\n",
    "['rain','cool','normal','N',False],\n",
    "['sunny','mild','high','N',True],\n",
    "['sunny','cool','normal','Y',True],\n",
    "['sunny','mild','normal','Y',True],\n",
    "['overcast','cool','high','N',True],\n",
    "['rain','cool','high','Y',False],\n",
    "['sunny','hot','normal','Y',False],\n",
    "['sunny','mild','high','N',True]])\n",
    "df.columns = ['outlook', 'temp', 'humidity', 'windy', 'play']\n",
    "df"
   ]
  },
  {
   "cell_type": "code",
   "execution_count": 1,
   "metadata": {
    "tags": []
   },
   "outputs": [],
   "source": [
    "from math import log "
   ]
  },
  {
   "cell_type": "code",
   "execution_count": 15,
   "metadata": {
    "tags": []
   },
   "outputs": [
    {
     "name": "stdout",
     "output_type": "stream",
     "text": [
      "1.0\n",
      "-0.0\n",
      "0.6500224216483541\n"
     ]
    }
   ],
   "source": [
    "def entropy(pi):\n",
    "    \"\"\"\n",
    "    return the Entropy of a probability distribution:\n",
    "    entropy(p) = - SUM (Pi * log(Pi) )\n",
    "    \"\"\"\n",
    "    total = 0\n",
    "    for p in pi:\n",
    "        if p != 0:\n",
    "            total += p/sum(pi) * log(p/sum(pi), 2)\n",
    "        else:\n",
    "            total += 0\n",
    "    return - total\n",
    "\n",
    "\n",
    "# Test the function \n",
    "\n",
    "print(entropy([1, 1])) # Maximum Entropy e.g. a coin toss\n",
    "print(entropy([0, 6])) # No entropy, ignore the -ve with zero , it's there due to log function\n",
    "print(entropy([2, 10])) # A random mix of classes\n",
    "\n",
    "# 1.0\n",
    "# -0.0\n",
    "# 0.6500224216483541"
   ]
  },
  {
   "cell_type": "markdown",
   "metadata": {},
   "source": [
    "## Write a function `IG(D,a)` to calculate the information gain \n",
    "\n",
    "- As input, the function should take in `D` as a class distribution array for target class, and `a` the class distribution of the attribute to be tested\n",
    "- Using the `entropy()` function from above, calculate the information gain as:\n",
    "\n",
    "$$gain(D,A) = Entropy(D) - \\sum(\\frac{|D_i|}{|D|}.Entropy(D_i))$$\n",
    "\n",
    "where $D_{i}$ represents distribution of each class in `a`.\n"
   ]
  },
  {
   "cell_type": "code",
   "execution_count": 16,
   "metadata": {},
   "outputs": [
    {
     "name": "stdout",
     "output_type": "stream",
     "text": [
      "0.5408520829727552\n"
     ]
    }
   ],
   "source": [
    "def IG(D, a):\n",
    "    \"\"\"\n",
    "    return the information gain:\n",
    "    gain(D, A) = entropy(D)− SUM( |Di| / |D| * entropy(Di) )\n",
    "    \"\"\"\n",
    "    gain = entropy(D) - sum([(sum(Di)/sum(D)) * entropy(Di) for Di in a])\n",
    "\n",
    "    return gain\n",
    "\n",
    "\n",
    "# Test the function\n",
    "# Set of example of the dataset - distribution of classes\n",
    "test_dist = [6, 6] # Yes, No\n",
    "# Attribute, number of members (feature)\n",
    "test_attr = [ [4,0], [2,4], [0,2] ] # class1, class2, class3 of attr1 according to YES/NO classes in test_dist\n",
    "\n",
    "print(IG(test_dist, test_attr))\n",
    "\n",
    "# 0.5408520829727552"
   ]
  },
  {
   "cell_type": "markdown",
   "metadata": {},
   "source": [
    "## First iteration - Decide the best split for the root node\n",
    "\n",
    "- Create the class distribution `play` as a list showing frequencies of both classes from the dataset\n",
    "- Similarly, create variables for four categorical feature attributes showing the class distribution for each class with respect to the target classes (yes and no)\n",
    "- Pass the play distribution with each attribute to calculate the information gain"
   ]
  },
  {
   "cell_type": "code",
   "execution_count": 40,
   "metadata": {},
   "outputs": [
    {
     "name": "stdout",
     "output_type": "stream",
     "text": [
      "Information Gain:\n",
      "\n",
      "Outlook: 0.41265581953400066\n",
      "Temperature: 0.0921214600329725\n",
      "Humidity: 0.0161116063701896\n",
      "Wind:, 0.0161116063701896\n"
     ]
    }
   ],
   "source": [
    "# Your code here\n",
    "# yes/no target\n",
    "play = [9,5]\n",
    "# outlook: overcast, sunny, rain\n",
    "outlook = [[3,1], [6,1], [0,3]]\n",
    "# temp: cool, mild, hot\n",
    "temperature = [[4,2], [4,1], [1,2]]\n",
    "# humidity: high, normal\n",
    "humidity = [[4,3], [5,2]]\n",
    "# wind: Y, N\n",
    "wind = [[4,3], [5,2]]\n",
    "\n",
    "# Information Gain:\n",
    "\n",
    "print ('Information Gain:\\n' )\n",
    "print('Outlook:', IG(play, outlook))\n",
    "print('Temperature:', IG(play, temperature))\n",
    "print('Humidity:', IG(play, humidity))\n",
    "print('Wind:,', IG(play, wind))\n",
    "\n",
    "# Outlook: 0.41265581953400066\n",
    "# Temperature: 0.09212146003297261\n",
    "# Humidity: 0.0161116063701896\n",
    "# Wind:, 0.0161116063701896"
   ]
  },
  {
   "cell_type": "markdown",
   "metadata": {},
   "source": [
    "We see here that the outlook attribute gives us the highest value for information gain, hence we choose this for creating a split at the root node. So far, we've built the following decision tree:\n",
    "<img src='images/outlook.png'  width =\"650\"  >\n",
    "\n",
    "\n",
    "## Second iteration\n",
    "\n",
    "Since the first iteration determines what split we should make for the root node of our tree, it's pretty simple. Now, we move down to the second level and start finding the optimal split for each of the nodes on this level. The first branch (edge) of three above that leads to the \"Sunny\" outcome. Of the temperature, humidity and wind attributes, find which one provides the highest information gain.\n",
    "\n",
    "Follow the same steps as above. Remember, we have 6 positive examples and 1 negative example in the \"sunny\" branch."
   ]
  },
  {
   "cell_type": "code",
   "execution_count": 46,
   "metadata": {
    "tags": []
   },
   "outputs": [],
   "source": [
    "# Your code here \n",
    "play = df[df.outlook == 'sunny']"
   ]
  },
  {
   "cell_type": "code",
   "execution_count": 47,
   "metadata": {
    "tags": []
   },
   "outputs": [],
   "source": [
    "temperature = [[sum(play[play.temp == tmp]['play']),\n",
    "                len(play[play.temp == tmp])-sum(play[play.temp == tmp]['play'])]\n",
    "                for tmp in play.temp.unique()\n",
    "               ]\n",
    "humidity = [[sum(play[play.humidity == hum]['play']),\n",
    "                len(play[play.humidity == hum])-sum(play[play.humidity == hum]['play'])]\n",
    "                for hum in play.humidity.unique()\n",
    "               ]\n",
    "wind = [[sum(play[play.windy == wnd]['play']),\n",
    "                len(play[play.windy == wnd])-sum(play[play.windy == wnd]['play'])]\n",
    "                for wnd in play.windy.unique()\n",
    "               ]"
   ]
  },
  {
   "cell_type": "code",
   "execution_count": 48,
   "metadata": {},
   "outputs": [],
   "source": [
    "play = [sum(play['play']), len(play)-sum(play['play'])]"
   ]
  },
  {
   "cell_type": "code",
   "execution_count": 49,
   "metadata": {},
   "outputs": [
    {
     "data": {
      "text/plain": [
       "[6, 1]"
      ]
     },
     "execution_count": 49,
     "metadata": {},
     "output_type": "execute_result"
    }
   ],
   "source": [
    "play"
   ]
  },
  {
   "cell_type": "code",
   "execution_count": 50,
   "metadata": {
    "tags": []
   },
   "outputs": [
    {
     "name": "stdout",
     "output_type": "stream",
     "text": [
      "Information Gain:\n",
      "\n",
      "Temperature: 0.3059584928680418\n",
      "Humidity: 0.0760098536627829\n",
      "Wind:, 0.12808527889139443\n"
     ]
    }
   ],
   "source": [
    "# Information Gain:\n",
    "print ('Information Gain:\\n' )\n",
    "\n",
    "print('Temperature:', IG(play, temperature))\n",
    "print('Humidity:', IG(play, humidity))\n",
    "print('Wind:,', IG(play, wind))\n",
    "\n",
    "# Temperature: 0.3059584928680418\n",
    "# Humidity: 0.0760098536627829\n",
    "# Wind: 0.12808527889139443"
   ]
  },
  {
   "cell_type": "markdown",
   "metadata": {},
   "source": [
    "We see that temperature gives us the highest information gain, so we'll use it to split our tree as shown below:\n",
    "\n",
    "<img src='images/temp.png'  width =\"650\"  >\n",
    "\n",
    "\n",
    "Let's continue. \n",
    "\n",
    "## Third iteration\n",
    "\n",
    "We'll now calculate splits for the 'temperature' node we just created for days where the weather is sunny. Temperature has three possible values: [Hot, Mild, Cool]. This means that for each of the possible temperatures, we'll need to calculate if splitting on windy or humidity gives us the greatest possible information gain.\n",
    "\n",
    "Why are we doing this next instead of the rest of the splits on level 2? Because a decision tree is a greedy algorithm, meaning that the next choice is always the one that will give it the greatest information gain. In this case, evaluating the temperature on sunny days gives us the most information gain, so that's where we'll go next.\n",
    "\n",
    "## All other iterations\n",
    "\n",
    "What happens once we get down to a 'pure' split? Obviously, we stop splitting. Once that happens, we go back to the highest remaining uncalculated node and calculate the best possible split for that one. We then continue on with that branch, until we have exhausted all possible splits or we run into a split that gives us 'pure' leaves where all 'play=Yes' is on one side of the split, and all 'play=No' is on the other.\n",
    "\n",
    "## Summary \n",
    "\n",
    "This lab should have helped you familiarize yourself with how decision trees work 'under the hood', and demystified how the algorithm actually 'learns' from data by: \n",
    "\n",
    "- Calculating entropy and information gain\n",
    "- Figuring out the next split you should calculate ('greedy' approach) "
   ]
  }
 ],
 "metadata": {
  "kernelspec": {
   "display_name": "Python 3",
   "language": "python",
   "name": "python3"
  },
  "language_info": {
   "codemirror_mode": {
    "name": "ipython",
    "version": 3
   },
   "file_extension": ".py",
   "mimetype": "text/x-python",
   "name": "python",
   "nbconvert_exporter": "python",
   "pygments_lexer": "ipython3",
   "version": "3.7.4"
  }
 },
 "nbformat": 4,
 "nbformat_minor": 2
}
